{
  "nbformat": 4,
  "nbformat_minor": 0,
  "metadata": {
    "kernelspec": {
      "display_name": "Python 3",
      "language": "python",
      "name": "python3"
    },
    "language_info": {
      "codemirror_mode": {
        "name": "ipython",
        "version": 3
      },
      "file_extension": ".py",
      "mimetype": "text/x-python",
      "name": "python",
      "nbconvert_exporter": "python",
      "pygments_lexer": "ipython3",
      "version": "3.7.4"
    },
    "colab": {
      "name": "Assignment2_bci.ipynb",
      "provenance": [],
      "collapsed_sections": [],
      "toc_visible": true
    },
    "accelerator": "GPU"
  },
  "cells": [
    {
      "cell_type": "code",
      "metadata": {
        "id": "ouBy1anJlWwY"
      },
      "source": [
        "import pylab as pl\n",
        "import scipy as sp\n",
        "import numpy as np\n",
        "from scipy.linalg import eig\n",
        "from scipy.io import loadmat\n",
        "import pdb"
      ],
      "execution_count": null,
      "outputs": []
    },
    {
      "cell_type": "code",
      "metadata": {
        "id": "WuvaBqUOlWwa"
      },
      "source": [
        "def load_data(fname):\n",
        "    data = loadmat(fname)\n",
        "    X,Y = data['X'],data['Y']\n",
        "    X = sp.reshape(X,(X.shape[0]*X.shape[1],X.shape[2]))\n",
        "    Y = sp.sign((Y[0,:]>0) -.5)\n",
        "    return X,Y"
      ],
      "execution_count": null,
      "outputs": []
    },
    {
      "cell_type": "code",
      "metadata": {
        "colab": {
          "base_uri": "https://localhost:8080/"
        },
        "id": "ECeGnJJtlWwa",
        "outputId": "e414c430-9b82-43fe-e8d3-00d65e57c6f8"
      },
      "source": [
        "X,Y = load_data('bcidata.mat')\n",
        "print(X.shape)\n",
        "print(Y.shape)"
      ],
      "execution_count": null,
      "outputs": [
        {
          "output_type": "stream",
          "text": [
            "(310, 5322)\n",
            "(5322,)\n"
          ],
          "name": "stdout"
        },
        {
          "output_type": "stream",
          "text": [
            "/usr/local/lib/python3.6/dist-packages/ipykernel_launcher.py:6: DeprecationWarning: scipy.reshape is deprecated and will be removed in SciPy 2.0.0, use numpy.reshape instead\n",
            "  \n",
            "/usr/local/lib/python3.6/dist-packages/ipykernel_launcher.py:8: DeprecationWarning: scipy.sign is deprecated and will be removed in SciPy 2.0.0, use numpy.sign instead\n",
            "  \n"
          ],
          "name": "stderr"
        }
      ]
    },
    {
      "cell_type": "code",
      "metadata": {
        "id": "lqwW6q0AlWwe"
      },
      "source": [
        "def train_ncc(X,Y):\n",
        "    positive_idx = np.where(Y == 1)\n",
        "    negative_idx = np.where(Y == -1)\n",
        "\n",
        "    positive_samples = X[:,positive_idx[0]]\n",
        "    negative_samples = X[:,negative_idx[0]]\n",
        "    \n",
        "    mean_positives = np.sum(positive_samples, axis = 1)/positive_samples.shape[1]\n",
        "    mean_negatives = np.sum(negative_samples, axis = 1)/negative_samples.shape[1]\n",
        "\n",
        "    w = mean_positives - mean_negatives\n",
        "    b = (np.sum(mean_positives**2) - np.sum(mean_negatives**2))/2\n",
        "    \n",
        "    return w,b"
      ],
      "execution_count": null,
      "outputs": []
    },
    {
      "cell_type": "code",
      "metadata": {
        "id": "Q02pEsw4lWwg"
      },
      "source": [
        "def train_lda(X,Y):\n",
        "    positive_idx = np.where(Y == 1)\n",
        "    negative_idx = np.where(Y == -1)\n",
        "\n",
        "    positive_samples = X[:,positive_idx[0]]\n",
        "    negative_samples = X[:,negative_idx[0]]\n",
        "        \n",
        "    mean_positives = np.sum(positive_samples, axis = 1)/positive_samples.shape[1]\n",
        "    mean_negatives = np.sum(negative_samples, axis = 1)/negative_samples.shape[1]\n",
        "\n",
        "    positives = positive_samples - mean_positives.reshape(len(mean_positives),1)\n",
        "    negatives = negative_samples - mean_negatives.reshape(len(mean_negatives),1)\n",
        "\n",
        "    C1 = np.dot(positives,positives.T)/positive_samples.shape[1]\n",
        "    C2 = np.dot(negatives, negatives.T)/negative_samples.shape[1]\n",
        "\n",
        "    Sw = C1+C2\n",
        "    \n",
        "    w = np.dot(np.linalg.inv(Sw),mean_positives-mean_negatives)\n",
        "    b = np.dot(w,(mean_positives + mean_negatives)/2)\n",
        "\n",
        "    return w,b"
      ],
      "execution_count": null,
      "outputs": []
    },
    {
      "cell_type": "code",
      "metadata": {
        "id": "uAmKbk3flWwi"
      },
      "source": [
        "def compare_classifiers():\n",
        "    '''\n",
        "    compares nearest centroid classifier and linear discriminant analysis\n",
        "    '''\n",
        "    fname = 'bcidata.mat'\n",
        "    X,Y = load_data(fname)\n",
        "\n",
        "    permidx = sp.random.permutation(sp.arange(X.shape[-1]))\n",
        "    trainpercent = 70.\n",
        "    stopat = int(sp.floor(Y.shape[-1]*trainpercent/100.))\n",
        "    #pdb.set_trace()\n",
        "    \n",
        "    X,Y,Xtest,Ytest = X[:,permidx[:stopat]],Y[permidx[:stopat]],X[:,permidx[stopat:]],Y[permidx[stopat:]]\n",
        "\n",
        "    w_ncc,b_ncc = train_ncc(X,Y)\n",
        "    w_lda,b_lda = train_lda(X,Y)\n",
        "    fig = pl.figure(figsize=(12,5))\n",
        "\n",
        "    ax1 = fig.add_subplot(1,2,1)\n",
        "    #pl.hold(True)\n",
        "    ax1.hist(w_ncc.dot(Xtest[:,Ytest<0]))\n",
        "    ax1.hist(w_ncc.dot(Xtest[:,Ytest>0]))\n",
        "    ax1.set_xlabel('$w^{T}_{NCC}X$')\n",
        "    ax1.legend(('non-target','target'))\n",
        "    ax1.set_title(\"NCC Acc \" + str(sp.sum(sp.sign(w_ncc.dot(Xtest)-b_ncc)==Ytest)*100/Xtest.shape[-1]) + \"%\")\n",
        "    ax2 = fig.add_subplot(1,2,2)\n",
        "    ax2.hist(w_lda.dot(Xtest[:,Ytest<0]))\n",
        "    ax2.hist(w_lda.dot(Xtest[:,Ytest>0]))\n",
        "    ax2.set_xlabel('$w^{T}_{LDA}X$')\n",
        "    ax2.legend(('non-target','target'))\n",
        "    ax2.set_title(\"LDA Acc \" + str(sp.sum(sp.sign(w_lda.dot(Xtest)-b_lda)==Ytest)*100/Xtest.shape[-1]) + \"%\")\n",
        "    pl.savefig('ncc-lda-comparison.pdf')\n"
      ],
      "execution_count": null,
      "outputs": []
    },
    {
      "cell_type": "code",
      "metadata": {
        "colab": {
          "base_uri": "https://localhost:8080/",
          "height": 578
        },
        "id": "IFSvIi1GlWwj",
        "outputId": "3558e739-32b3-43b9-de4f-f9b335753334"
      },
      "source": [
        "compare_classifiers()"
      ],
      "execution_count": null,
      "outputs": [
        {
          "output_type": "stream",
          "text": [
            "/usr/local/lib/python3.6/dist-packages/ipykernel_launcher.py:6: DeprecationWarning: scipy.reshape is deprecated and will be removed in SciPy 2.0.0, use numpy.reshape instead\n",
            "  \n",
            "/usr/local/lib/python3.6/dist-packages/ipykernel_launcher.py:8: DeprecationWarning: scipy.sign is deprecated and will be removed in SciPy 2.0.0, use numpy.sign instead\n",
            "  \n",
            "/usr/local/lib/python3.6/dist-packages/ipykernel_launcher.py:8: DeprecationWarning: scipy.arange is deprecated and will be removed in SciPy 2.0.0, use numpy.arange instead\n",
            "  \n",
            "/usr/local/lib/python3.6/dist-packages/ipykernel_launcher.py:10: DeprecationWarning: scipy.floor is deprecated and will be removed in SciPy 2.0.0, use numpy.floor instead\n",
            "  # Remove the CWD from sys.path while we load stuff.\n",
            "/usr/local/lib/python3.6/dist-packages/ipykernel_launcher.py:25: DeprecationWarning: scipy.sign is deprecated and will be removed in SciPy 2.0.0, use numpy.sign instead\n",
            "/usr/local/lib/python3.6/dist-packages/ipykernel_launcher.py:25: DeprecationWarning: scipy.sum is deprecated and will be removed in SciPy 2.0.0, use numpy.sum instead\n",
            "/usr/local/lib/python3.6/dist-packages/ipykernel_launcher.py:31: DeprecationWarning: scipy.sign is deprecated and will be removed in SciPy 2.0.0, use numpy.sign instead\n",
            "/usr/local/lib/python3.6/dist-packages/ipykernel_launcher.py:31: DeprecationWarning: scipy.sum is deprecated and will be removed in SciPy 2.0.0, use numpy.sum instead\n"
          ],
          "name": "stderr"
        },
        {
          "output_type": "display_data",
          "data": {
            "image/png": "[encoded data removed]",
            "text/plain": [
              "<Figure size 864x360 with 2 Axes>"
            ]
          },
          "metadata": {
            "tags": [],
            "needs_background": "light"
          }
        }
      ]
    },
    {
      "cell_type": "code",
      "metadata": {
        "id": "iiMQZj8plWwl"
      },
      "source": [
        "def crossvalidate(X,Y,f=10,trainfunction=train_lda):\n",
        "    samples = X.shape[1]\n",
        "    per_bold_samples = [samples//f for i in range(f)]\n",
        "    remainder = samples - samples//f*f\n",
        "    for i in range(remainder):\n",
        "      per_bold_samples[i]+=1\n",
        "    lower = 0\n",
        "    upper = 0\n",
        "    acc_train = []\n",
        "    acc_test = []\n",
        "    for i in range(f):\n",
        "      upper += per_bold_samples[i] \n",
        "      X_train = np.concatenate((X[:,:lower],X[:,upper:]),axis = 1)\n",
        "      X_test = X[:,lower:upper]\n",
        "      y_train = np.concatenate((Y[:lower],Y[upper:]))\n",
        "      y_test = Y[lower:upper]\n",
        "      w,b = trainfunction(X_train,y_train)\n",
        "      acc_train.append(sp.sum(sp.sign(w.dot(X_train)-b)==y_train)*100/X_train.shape[-1])\n",
        "      acc_test.append(sp.sum(sp.sign(w.dot(X_test)-b)==y_test)*100/X_test.shape[-1])\n",
        "      lower += per_bold_samples[i]\n",
        "    fig = pl.figure()\n",
        "    plot = fig.add_subplot()\n",
        "    plot.boxplot((acc_train,acc_test),labels = ('train block','test block'))\n",
        "    plot.set_ylabel('Accuracy')\n",
        "\n",
        "    return acc_train,acc_test\n"
      ],
      "execution_count": null,
      "outputs": []
    },
    {
      "cell_type": "code",
      "metadata": {
        "colab": {
          "base_uri": "https://localhost:8080/",
          "height": 755
        },
        "id": "3aH5UDqQlWwm",
        "outputId": "dce15074-a313-487c-be7f-22d26d6e35cc"
      },
      "source": [
        "X,Y = load_data('bcidata.mat')\n",
        "crossvalidate(X,Y,f=10,trainfunction=train_lda)"
      ],
      "execution_count": null,
      "outputs": [
        {
          "output_type": "stream",
          "text": [
            "/usr/local/lib/python3.6/dist-packages/ipykernel_launcher.py:6: DeprecationWarning: scipy.reshape is deprecated and will be removed in SciPy 2.0.0, use numpy.reshape instead\n",
            "  \n",
            "/usr/local/lib/python3.6/dist-packages/ipykernel_launcher.py:8: DeprecationWarning: scipy.sign is deprecated and will be removed in SciPy 2.0.0, use numpy.sign instead\n",
            "  \n",
            "/usr/local/lib/python3.6/dist-packages/ipykernel_launcher.py:31: DeprecationWarning: scipy.sign is deprecated and will be removed in SciPy 2.0.0, use numpy.sign instead\n",
            "/usr/local/lib/python3.6/dist-packages/ipykernel_launcher.py:31: DeprecationWarning: scipy.sum is deprecated and will be removed in SciPy 2.0.0, use numpy.sum instead\n",
            "/usr/local/lib/python3.6/dist-packages/ipykernel_launcher.py:32: DeprecationWarning: scipy.sign is deprecated and will be removed in SciPy 2.0.0, use numpy.sign instead\n",
            "/usr/local/lib/python3.6/dist-packages/ipykernel_launcher.py:32: DeprecationWarning: scipy.sum is deprecated and will be removed in SciPy 2.0.0, use numpy.sum instead\n"
          ],
          "name": "stderr"
        },
        {
          "output_type": "execute_result",
          "data": {
            "text/plain": [
              "([97.74483190645229,\n",
              "  97.82835665065775,\n",
              "  97.93319415448852,\n",
              "  97.84968684759916,\n",
              "  97.68267223382045,\n",
              "  97.74530271398747,\n",
              "  97.59916492693111,\n",
              "  97.59916492693111,\n",
              "  97.82881002087683,\n",
              "  97.62004175365344],\n",
              " [95.49718574108817,\n",
              "  95.87242026266416,\n",
              "  94.92481203007519,\n",
              "  96.80451127819549,\n",
              "  96.61654135338345,\n",
              "  96.61654135338345,\n",
              "  98.1203007518797,\n",
              "  97.36842105263158,\n",
              "  97.55639097744361,\n",
              "  98.30827067669173])"
            ]
          },
          "metadata": {
            "tags": []
          },
          "execution_count": 30
        },
        {
          "output_type": "display_data",
          "data": {
            "image/png": "[encoded data removed]",
            "text/plain": [
              "<Figure size 432x288 with 1 Axes>"
            ]
          },
          "metadata": {
            "tags": [],
            "needs_background": "light"
          }
        }
      ]
    },
    {
      "cell_type": "code",
      "metadata": {
        "colab": {
          "base_uri": "https://localhost:8080/",
          "height": 755
        },
        "id": "4OktmZI4lWwm",
        "outputId": "f6e84e92-bd25-4775-8e04-0dbb0653fb31"
      },
      "source": [
        "X,Y = load_data('bcidata.mat')\n",
        "crossvalidate(X,Y,f=10,trainfunction=train_ncc)"
      ],
      "execution_count": null,
      "outputs": [
        {
          "output_type": "stream",
          "text": [
            "/usr/local/lib/python3.6/dist-packages/ipykernel_launcher.py:6: DeprecationWarning: scipy.reshape is deprecated and will be removed in SciPy 2.0.0, use numpy.reshape instead\n",
            "  \n",
            "/usr/local/lib/python3.6/dist-packages/ipykernel_launcher.py:8: DeprecationWarning: scipy.sign is deprecated and will be removed in SciPy 2.0.0, use numpy.sign instead\n",
            "  \n",
            "/usr/local/lib/python3.6/dist-packages/ipykernel_launcher.py:31: DeprecationWarning: scipy.sign is deprecated and will be removed in SciPy 2.0.0, use numpy.sign instead\n",
            "/usr/local/lib/python3.6/dist-packages/ipykernel_launcher.py:31: DeprecationWarning: scipy.sum is deprecated and will be removed in SciPy 2.0.0, use numpy.sum instead\n",
            "/usr/local/lib/python3.6/dist-packages/ipykernel_launcher.py:32: DeprecationWarning: scipy.sign is deprecated and will be removed in SciPy 2.0.0, use numpy.sign instead\n",
            "/usr/local/lib/python3.6/dist-packages/ipykernel_launcher.py:32: DeprecationWarning: scipy.sum is deprecated and will be removed in SciPy 2.0.0, use numpy.sum instead\n"
          ],
          "name": "stderr"
        },
        {
          "output_type": "execute_result",
          "data": {
            "text/plain": [
              "([65.5251618291919,\n",
              "  65.60868657339736,\n",
              "  65.78288100208768,\n",
              "  65.86638830897704,\n",
              "  65.8455114822547,\n",
              "  66.05427974947808,\n",
              "  65.34446764091858,\n",
              "  65.5741127348643,\n",
              "  65.76200417536535,\n",
              "  65.44885177453027],\n",
              " [66.04127579737336,\n",
              "  62.10131332082552,\n",
              "  64.09774436090225,\n",
              "  64.66165413533835,\n",
              "  66.35338345864662,\n",
              "  65.22556390977444,\n",
              "  66.72932330827068,\n",
              "  67.66917293233082,\n",
              "  65.97744360902256,\n",
              "  68.98496240601504])"
            ]
          },
          "metadata": {
            "tags": []
          },
          "execution_count": 31
        },
        {
          "output_type": "display_data",
          "data": {
            "image/png": "[encoded data removed]",
            "text/plain": [
              "<Figure size 432x288 with 1 Axes>"
            ]
          },
          "metadata": {
            "tags": [],
            "needs_background": "light"
          }
        }
      ]
    }
  ]
}